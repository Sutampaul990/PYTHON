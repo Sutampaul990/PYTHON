{
 "cells": [
  {
   "cell_type": "code",
   "execution_count": 1,
   "metadata": {},
   "outputs": [],
   "source": [
    "import numpy as np\n",
    "import matplotlib.pyplot as plt\n",
    "import random\n",
    "class PythonGraphs:\n",
    "    def Graph1():\n",
    "        axis=np.random.randint(10,90,5)\n",
    "\n",
    "        explode_array = np.array()\n",
    "        plt.legend(axis)\n",
    "        "
   ]
  },
  {
   "cell_type": "code",
   "execution_count": 6,
   "metadata": {},
   "outputs": [
    {
     "name": "stdout",
     "output_type": "stream",
     "text": [
      "['x0Cv', '112R', 'REP2', 'ZD7w', 'T2dE', 'vXsc', 'rThE', 'H7cH', 'e2Wl', 'BBVn']\n"
     ]
    }
   ],
   "source": [
    "import random\n",
    "import string\n",
    "import numpy as np\n",
    "# Define the length of each random string\n",
    "m=int(input(\"Enter the string length => \"))\n",
    "string_length = m\n",
    "n=int(input(\"Enter the number of strings => \"))\n",
    "# Generate a list of 30 random strings\n",
    "random_strings = [''.join(random.choices(string.ascii_letters + string.digits, k=string_length)) for _ in range(n)]\n",
    "print(random_strings)\n",
    "# Print the list of random strings\n",
    "#arr_1=[]\n",
    "#for string in random_strings:\n",
    "    # print(string,end=\", \")\n",
    "    #arr_1.append(string)\n",
    "#print(arr_1)"
   ]
  }
 ],
 "metadata": {
  "kernelspec": {
   "display_name": "base",
   "language": "python",
   "name": "python3"
  },
  "language_info": {
   "codemirror_mode": {
    "name": "ipython",
    "version": 3
   },
   "file_extension": ".py",
   "mimetype": "text/x-python",
   "name": "python",
   "nbconvert_exporter": "python",
   "pygments_lexer": "ipython3",
   "version": "3.11.3"
  },
  "orig_nbformat": 4
 },
 "nbformat": 4,
 "nbformat_minor": 2
}
